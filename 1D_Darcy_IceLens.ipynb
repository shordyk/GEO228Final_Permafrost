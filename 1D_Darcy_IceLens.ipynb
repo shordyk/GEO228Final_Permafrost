{
 "cells": [
  {
   "cell_type": "code",
   "execution_count": 20,
   "id": "41005230-918d-4818-a387-dde319aed229",
   "metadata": {},
   "outputs": [],
   "source": [
    "# Parameters\n",
    "import numpy as np\n",
    "\n",
    "rho_a = 1600 #kg/m^3\n",
    "# active and frozen soil probably have similar densities, with frozen having more water content\n",
    "# 1.6 - 0.2 g/cm3. error on higher side because\n",
    "rho_p = 2000\n",
    "rho_w = 1000\n",
    "K_a = 1e-3 \n",
    "# frozen soil has very low permeability, 10^-6 m/s\n",
    "K_p = 1e-6 \n",
    "g = 9.81\n",
    "mu = 1e-3\n"
   ]
  },
  {
   "cell_type": "code",
   "execution_count": 24,
   "id": "590e166d-94d1-414b-a004-fb60a98c490b",
   "metadata": {},
   "outputs": [],
   "source": [
    "# Discretization\n",
    "layers = 10\n",
    "dy = 1.0  # Distance between layers in meters\n",
    "dt = 1.0  # Time step in seconds\n",
    "total_time = 10000000  # Total simulation time in seconds\n",
    "A = 1.0 * dy #assume width of 1 meter \n",
    "\n",
    "# Geometry \n",
    "al_wl_boundary = int(3)\n",
    "wl_pl_boundary = int(7)\n",
    "\n",
    "# Initialize depth, pressure, and permeability arrays\n",
    "depths = np.arange(0, layers * dy, dy)  \n",
    "ov_pressures = np.zeros(layers)\n",
    "pw_pressures = np.zeros(layers)\n",
    "K = np.zeros(layers)"
   ]
  },
  {
   "cell_type": "code",
   "execution_count": 25,
   "id": "7ed6643a-f0fa-48b0-b6c5-e3805d51f0b2",
   "metadata": {},
   "outputs": [],
   "source": [
    "# Generate Initial Pressure Distribution\n",
    "atm_pressure = 101325  # atmospheric pressure in Pa, not needed?\n",
    "\n",
    "for i in range(layers):\n",
    "    # Active Layer\n",
    "    if i <= al_wl_boundary:\n",
    "        ov_pressures[i] = rho_a * g * depths[i]\n",
    "        K[i] = K_a\n",
    "    # Water Layer\n",
    "    elif i >= al_wl_boundary and i<= wl_pl_boundary :\n",
    "        ov_pressures[i] = rho_w *g * (depths[i] - depths[al_wl_boundary]) + (rho_a * g * depths[al_wl_boundary]) \n",
    "        #Assuming a very high hydraulic conductivity \n",
    "        K[i] = 1e-1\n",
    "    # Permafrost Layer \n",
    "    else:\n",
    "        ov_pressures[i] = rho_p *g * (depths[i] - depths[wl_pl_boundary]) + (rho_w * g * depths[wl_pl_boundary]) + (rho_a * g * depths[al_wl_boundary])\n",
    "        K[i] = K_p\n",
    "\n",
    "# Initalize Pore water pressures \n",
    "for i in range(layers):\n",
    "    # Active layer, assuming moist but not saturated soil. Negative pressure\n",
    "    if i <= al_wl_boundary:\n",
    "        pw_pressures[i] = -100\n",
    "    # Pore water pressure at water level is 0 \n",
    "    elif i >= al_wl_boundary and i<= wl_pl_boundary :\n",
    "        pw_pressures[i] = rho_w*g * (i - al_wl_boundary)\n",
    "    # Pore water pressure below water level\n",
    "    else:\n",
    "        #pw_pressures[i] = rho_w*g*(i - wl_pl_boundary)\n",
    "        pw_pressures[i] = -100\n",
    "    \n",
    "\n"
   ]
  },
  {
   "cell_type": "code",
   "execution_count": 26,
   "id": "a1787373-5291-47a5-9aed-ae29537ca673",
   "metadata": {},
   "outputs": [],
   "source": [
    "# Solver Loop: Darcy Flow and Update Pressure\n",
    "for t in np.arange(0, total_time, dt):\n",
    "    # Calculate flow rates between layers based on Darcy's Law, depends on pore pressure grad\n",
    "    Q = np.zeros(layers - 1)\n",
    "    for i in range(1, layers):\n",
    "        pore_grad = (pw_pressures[i] - pw_pressures[i-1]) / dy\n",
    "        Q[i-1] = -K[i] * A * pore_grad / (rho_w *g)\n",
    "    # Update pressures based on flow rates\n",
    "    for i in range(1, layers-1):\n",
    "        pw_pressures[i] += Q[i-1] * dt / A - Q[i] * dt / A\n",
    "        # Check if pore water pressure exceeds lithostatic pressure\n",
    "        if pw_pressures[i] >= ov_pressures[i]:\n",
    "            print(f\"Simulation stopped early at time {t}s. Pore water pressure exceeds lithostatic pressure at layer {i}.\")\n",
    "            break\n",
    "\n",
    "    # Break out of the outer loop if the condition is met in any layer\n",
    "    if any(ov_pressures >= pw_pressures):\n",
    "        break\n"
   ]
  },
  {
   "cell_type": "code",
   "execution_count": 14,
   "id": "510d1f63-753f-471b-a8cb-ffdc6cfcb591",
   "metadata": {},
   "outputs": [
    {
     "name": "stdout",
     "output_type": "stream",
     "text": [
      "[-1.00000000e+02 -1.00000000e+02 -1.00000000e+02 -1.00000000e+02\n",
      " -1.00000000e+02 -1.00000000e+02 -1.00000000e+02 -1.00000000e+02\n",
      " -1.00000000e+02 -1.00000000e+02 -1.00000000e+02 -1.00000000e+02\n",
      " -1.00000000e+02 -1.00000000e+02 -1.00000000e+02 -1.00000000e+02\n",
      " -1.00000000e+02 -1.00000000e+02 -1.00000000e+02 -1.00000000e+02\n",
      " -9.98989806e+01  9.80999898e+03  1.96200000e+04  2.94300000e+04\n",
      "  3.92400000e+04  4.90500000e+04  5.88600000e+04  6.86700000e+04\n",
      "  7.84800000e+04  8.82900000e+04  9.81000000e+04  1.07910000e+05\n",
      "  1.17720000e+05  1.27530000e+05  1.37340000e+05  1.47150000e+05\n",
      "  1.56960000e+05  1.66770000e+05  1.76580000e+05  1.86390000e+05\n",
      "  1.96200000e+05  2.06010000e+05  2.15820000e+05  2.25630000e+05\n",
      "  2.35440000e+05  2.45250000e+05  2.55060000e+05  2.64870000e+05\n",
      "  2.74680000e+05  2.84490000e+05  2.94300000e+05  3.04110000e+05\n",
      "  3.13920000e+05  3.23730000e+05  3.33540000e+05  3.43350000e+05\n",
      "  3.53160000e+05  3.62970000e+05  3.72780000e+05  3.82590000e+05\n",
      "  3.92400000e+05  4.02210000e+05  4.12020000e+05  4.21830000e+05\n",
      "  4.31640000e+05  4.41449900e+05 -9.99999550e+01 -1.00000000e+02\n",
      " -1.00000000e+02 -1.00000000e+02]\n"
     ]
    }
   ],
   "source": [
    "print(pw_pressures)"
   ]
  },
  {
   "cell_type": "code",
   "execution_count": 15,
   "id": "7d380202-c317-40fa-abe2-3a584b39f2c6",
   "metadata": {},
   "outputs": [
    {
     "name": "stdout",
     "output_type": "stream",
     "text": [
      "[      0.   15696.   31392.   47088.   62784.   78480.   94176.  109872.\n",
      "  125568.  141264.  156960.  172656.  188352.  204048.  219744.  235440.\n",
      "  251136.  266832.  282528.  298224.  313920.  323730.  333540.  343350.\n",
      "  353160.  362970.  372780.  382590.  392400.  402210.  412020.  421830.\n",
      "  431640.  441450.  451260.  461070.  470880.  480690.  490500.  500310.\n",
      "  510120.  519930.  529740.  539550.  549360.  559170.  568980.  578790.\n",
      "  588600.  598410.  608220.  618030.  627840.  637650.  647460.  657270.\n",
      "  667080.  676890.  686700.  696510.  706320.  716130.  725940.  735750.\n",
      "  745560.  755370.  971190.  990810. 1010430. 1030050.]\n"
     ]
    }
   ],
   "source": [
    "print(ov_pressures)"
   ]
  },
  {
   "cell_type": "code",
   "execution_count": null,
   "id": "34e3f66d-54e9-45ee-aa1c-3288ef094e91",
   "metadata": {},
   "outputs": [],
   "source": []
  }
 ],
 "metadata": {
  "kernelspec": {
   "display_name": "Python 3 (ipykernel)",
   "language": "python",
   "name": "python3"
  },
  "language_info": {
   "codemirror_mode": {
    "name": "ipython",
    "version": 3
   },
   "file_extension": ".py",
   "mimetype": "text/x-python",
   "name": "python",
   "nbconvert_exporter": "python",
   "pygments_lexer": "ipython3",
   "version": "3.11.7"
  }
 },
 "nbformat": 4,
 "nbformat_minor": 5
}
