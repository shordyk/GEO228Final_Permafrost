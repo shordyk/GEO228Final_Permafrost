{
 "cells": [
  {
   "cell_type": "code",
   "execution_count": 139,
   "id": "41005230-918d-4818-a387-dde319aed229",
   "metadata": {},
   "outputs": [],
   "source": [
    "# Parameters\n",
    "import numpy as np\n",
    "import matplotlib.pyplot as plt\n",
    "\n",
    "\n",
    "\n",
    "rho_a = 1600 #kg/m^3\n",
    "# active and frozen soil probably have similar densities, with frozen having more water content\n",
    "\n",
    "rho_p = 2000\n",
    "rho_w = 1000\n",
    "K_a = 1e-3 \n",
    "# frozen soil has very low permeability\n",
    "K_p = 1e-6 \n",
    "g = 9.81\n",
    "\n"
   ]
  },
  {
   "cell_type": "code",
   "execution_count": 153,
   "id": "590e166d-94d1-414b-a004-fb60a98c490b",
   "metadata": {},
   "outputs": [],
   "source": [
    "# Discretization\n",
    "layers = 10\n",
    "layers_x = 5\n",
    "dx = dy = 1.0  # Distance between layers in meters\n",
    "dt = 1.0  # Time step in seconds\n",
    "total_time = 10000000  # Total simulation time in seconds\n",
    "A = 1.0 * dy #assume width of 1 meter \n",
    "\n",
    "\n",
    "# Initialize depth, pressure, and permeability arrays\n",
    "depths = np.arange(0, layers * dy, dy)  \n",
    "ov_pressures = np.full((layers, layers_x), np.nan)\n",
    "pw_pressures = np.full((layers, layers_x), np.nan)\n",
    "K = np.zeros((layers, layers_x))\n",
    "Q_x = np.zeros((layers, layers_x))\n",
    "Q_y = np.zeros((layers, layers_x))"
   ]
  },
  {
   "cell_type": "code",
   "execution_count": 154,
   "id": "7ed6643a-f0fa-48b0-b6c5-e3805d51f0b2",
   "metadata": {},
   "outputs": [],
   "source": [
    "# Geometry\n",
    "al_wl_boundary = int(4)\n",
    "wl_pl_boundary = int(7)\n",
    "\n",
    "\n",
    "# given some angle\n",
    "# h(j) = H - xtan(theta)\n",
    "slope_height = al_wl_boundary \n",
    "theta = 50\n",
    "theta_radians = np.radians(theta)\n"
   ]
  },
  {
   "cell_type": "code",
   "execution_count": 155,
   "id": "b0eb4887-b6a3-43c0-9ef3-15d4454a780f",
   "metadata": {},
   "outputs": [],
   "source": [
    "# Initial Lithostatic Pressure Distribution\n",
    "for j in range(layers_x):\n",
    "    for i in range(layers):\n",
    "        adjusted_height = slope_height - (j * np.tan(theta_radians))\n",
    "        if i >= adjusted_height:  # Only apply pressures below the adjusted height\n",
    "            actual_depth = depths[i] - adjusted_height\n",
    "            al_pressure = rho_a * g * actual_depth\n",
    "            # Active layer\n",
    "            if i <= al_wl_boundary:\n",
    "                ov_pressures[i, j] = al_pressure\n",
    "                K[i, j] = K_a\n",
    "            # Water Layer\n",
    "            elif al_wl_boundary < i <= wl_pl_boundary:\n",
    "                ov_pressures[i, j] = rho_w * g * (depths[i] - depths[al_wl_boundary]) + al_pressure\n",
    "                K[i, j] = 1e-1\n",
    "            # Permafrost layer\n",
    "            else:\n",
    "                wl_pressure = rho_w * g * (depths[wl_pl_boundary] - depths[al_wl_boundary])\n",
    "                ov_pressures[i, j] = rho_p * g * (depths[i] - depths[wl_pl_boundary]) + wl_pressure + al_pressure\n",
    "                K[i, j] = K_p"
   ]
  },
  {
   "cell_type": "code",
   "execution_count": 156,
   "id": "34e3f66d-54e9-45ee-aa1c-3288ef094e91",
   "metadata": {},
   "outputs": [],
   "source": [
    "# Initialize Pore water pressures\n",
    "for i in range(layers):\n",
    "    for j in range(layers_x):\n",
    "        adjusted_height = slope_height - (j * np.tan(theta_radians))\n",
    "        if i > adjusted_height:  # Only apply pressures below the adjusted height\n",
    "            # Active layer, slightly moist but unsaturated soil has negative pressure\n",
    "            if i <= al_wl_boundary:\n",
    "                pw_pressures[i, j] = -100\n",
    "            # Water layer\n",
    "            elif i > al_wl_boundary and i <= wl_pl_boundary:\n",
    "                pw_pressures[i, j] = rho_w*g * (i - al_wl_boundary)\n",
    "            # Permafrost layer, assuming unsaturated also?\n",
    "            else:\n",
    "                #pw_pressures[i, j] = rho_w * g * (i - wl_pl_boundary)\n",
    "                pw_pressures[i, j] = -100"
   ]
  },
  {
   "cell_type": "code",
   "execution_count": 126,
   "id": "41156864-31f7-4a2f-ab1e-5c6f998b83c3",
   "metadata": {},
   "outputs": [
    {
     "name": "stdout",
     "output_type": "stream",
     "text": [
      "[[     nan      nan      nan      nan  -100.00]\n",
      " [     nan      nan      nan  -100.00  -100.00]\n",
      " [     nan      nan  -100.00  -100.00  -100.00]\n",
      " [     nan  -100.00  -100.00  -100.00  -100.00]\n",
      " [     nan  -100.00  -100.00  -100.00  -100.00]\n",
      " [ 9810.00  9810.00  9810.00  9810.00  9810.00]\n",
      " [19620.00 19620.00 19620.00 19620.00 19620.00]\n",
      " [29430.00 29430.00 29430.00 29430.00 29430.00]\n",
      " [39240.00 39240.00 39240.00 39240.00 39240.00]\n",
      " [ -100.00  -100.00  -100.00  -100.00  -100.00]]\n"
     ]
    }
   ],
   "source": [
    "# Check initialized pressures\n",
    "np.set_printoptions(precision=2, floatmode='fixed')\n",
    "print(pw_pressures)"
   ]
  },
  {
   "cell_type": "code",
   "execution_count": 127,
   "id": "df1c36f7-03be-47a9-aad8-b5510c09eacb",
   "metadata": {},
   "outputs": [
    {
     "name": "stdout",
     "output_type": "stream",
     "text": [
      "[[      nan       nan       nan       nan  12039.06]\n",
      " [      nan       nan       nan   9029.29  27735.06]\n",
      " [      nan       nan   6019.53  24725.29  43431.06]\n",
      " [      nan   3009.76  21715.53  40421.29  59127.06]\n",
      " [     0.00  18705.76  37411.53  56117.29  74823.06]\n",
      " [ 25506.00  44211.76  62917.53  81623.29 100329.06]\n",
      " [ 51012.00  69717.76  88423.53 107129.29 125835.06]\n",
      " [ 76518.00  95223.76 113929.53 132635.29 151341.06]\n",
      " [102024.00 120729.76 139435.53 158141.29 176847.06]\n",
      " [137340.00 156045.76 174751.53 193457.29 212163.06]]\n"
     ]
    }
   ],
   "source": [
    "print(ov_pressures)"
   ]
  },
  {
   "cell_type": "code",
   "execution_count": 157,
   "id": "a1787373-5291-47a5-9aed-ae29537ca673",
   "metadata": {},
   "outputs": [
    {
     "name": "stdout",
     "output_type": "stream",
     "text": [
      "Simulation stopped early at time 133602.0s. Pore water pressure exceeds lithostatic pressure at layer 7. Pore water pressure is 95223.86070752893 and overburden 95223.76438935871\n"
     ]
    }
   ],
   "source": [
    "# Solver Loop: Darcy Flow and Update Pressure\n",
    "should_continue = True # Flag to exit loop \n",
    "cell_volume = dx * dy\n",
    "\n",
    "for t in np.arange(0, total_time, dt):\n",
    "    # Calculate flow rates between layers based on Darcy's Law, depends on pore pressure grad\n",
    "    Q = np.zeros(layers - 1)\n",
    "    for i in range(1, layers):\n",
    "        if not should_continue:\n",
    "            break\n",
    "            \n",
    "        for j in range(1, layers_x):\n",
    "            if np.isnan(pw_pressures[i, j]) or np.isnan(pw_pressures[i, j-1]):\n",
    "                Q_x[i-1, j] = 0 \n",
    "            else: \n",
    "                pore_grad_x = (pw_pressures[i,j] - pw_pressures[i,j-1]) / dx\n",
    "                Q_x[i-1, j] = -K[i, j] * A * pore_grad_x / (rho_w *g)\n",
    "\n",
    "            if np.isnan(pw_pressures[i, j]) or np.isnan(pw_pressures[i-1, j]):\n",
    "                Q_y[i, j-1] = 0  \n",
    "            else:\n",
    "                pore_grad_y = (pw_pressures[i, j] - pw_pressures[i-1, j]) / dy\n",
    "                Q_y[i, j-1] = -K[i, j] * A * pore_grad_y / (rho_w *g)\n",
    "                \n",
    "            if pw_pressures[i,j] >= ov_pressures[i,j]:\n",
    "                print(f\"Simulation stopped early at time {t}s. Pore water pressure exceeds lithostatic pressure at layer {i}.Pore water pressure is {pw_pressures[i,j]} and overburden {ov_pressures[i,j]}\")\n",
    "                should_continue = False\n",
    "                break\n",
    "    # Update pressures based on flow rates\n",
    "    for i in range(1, layers-1):\n",
    "        if not should_continue:\n",
    "            break\n",
    "        for j in range(1, layers_x):\n",
    "            if not np.isnan(pw_pressures[i, j]):\n",
    "                net_flow_x = Q_x[i, j-1] - Q_x[i, j]\n",
    "                net_flow_y = Q_y[i-1, j] - Q_y[i, j]\n",
    "                volume_change = (net_flow_x + net_flow_y) * dt\n",
    "                \n",
    "                pw_pressures[i, j] += volume_change / cell_volume\n",
    "            if pw_pressures[i,j] >= ov_pressures[i,j]:\n",
    "                print(f\"Simulation stopped early at time {t}s. Pore water pressure exceeds lithostatic pressure at layer {i}. Pore water pressure is {pw_pressures[i,j]} and overburden {ov_pressures[i,j]}\")\n",
    "                should_continue = False \n",
    "                break\n",
    "            # Check if pore water pressure exceeds lithostatic pressure\n",
    "\n",
    "    # Break out of the outer loop if the condition is met in any layer\n",
    "    #break\n"
   ]
  },
  {
   "cell_type": "code",
   "execution_count": 31,
   "id": "510d1f63-753f-471b-a8cb-ffdc6cfcb591",
   "metadata": {},
   "outputs": [
    {
     "name": "stdout",
     "output_type": "stream",
     "text": [
      "[[   nan    nan    nan    nan    nan]\n",
      " [   nan    nan    nan    nan  -100.]\n",
      " [   nan    nan  -100.  -100.  -100.]\n",
      " [   nan  -100.  -100.  -100.  -100.]\n",
      " [ 9810.  9810.  9810.  9810.  9810.]\n",
      " [19620. 19620. 19620. 19620. 19620.]\n",
      " [29430. 29430. 29430. 29430. 29430.]\n",
      " [ -100.  -100.  -100.  -100.  -100.]\n",
      " [ -100.  -100.  -100.  -100.  -100.]\n",
      " [ -100.  -100.  -100.  -100.  -100.]]\n"
     ]
    }
   ],
   "source": [
    "print(pw_pressures)"
   ]
  },
  {
   "cell_type": "code",
   "execution_count": 18,
   "id": "f47ae44b-6c7a-455a-ac02-ee2e66e3e5d7",
   "metadata": {},
   "outputs": [
    {
     "data": {
      "text/plain": [
       "array([[            nan,             nan,             nan,\n",
       "                    nan,             nan],\n",
       "       [            nan,             nan,             nan,\n",
       "                    nan, -1.00707626e+02],\n",
       "       [            nan,             nan, -1.66089727e+02,\n",
       "        -1.53034631e+01, -1.33275128e+02],\n",
       "       [            nan,  1.03413532e+04, -7.85622748e+03,\n",
       "        -6.14825616e+03, -8.29965877e+03],\n",
       "       [ 9.81000000e+03,  2.99384397e+04,  4.26997357e+04,\n",
       "         2.91006207e+04,  4.19424808e+03],\n",
       "       [ 1.96200000e+04, -4.42933312e+03, -6.95555515e+03,\n",
       "         2.07839923e+04,  2.28024592e+04],\n",
       "       [ 2.94300000e+04,  5.56633541e+04,  3.74711263e+04,\n",
       "         2.71743564e+04,  2.94300625e+04],\n",
       "       [-1.00000000e+02, -2.10205909e+04, -1.17396454e+04,\n",
       "        -1.12568804e+04, -1.00000002e+02],\n",
       "       [-1.00000000e+02, -9.94899855e+01, -9.95212341e+01,\n",
       "        -9.96456398e+01, -1.00000000e+02],\n",
       "       [-1.00000000e+02, -1.00000000e+02, -1.00000000e+02,\n",
       "        -1.00000000e+02, -1.00000000e+02]])"
      ]
     },
     "execution_count": 18,
     "metadata": {},
     "output_type": "execute_result"
    }
   ],
   "source": [
    "pw_pressures[:10]"
   ]
  },
  {
   "cell_type": "code",
   "execution_count": 27,
   "id": "7d380202-c317-40fa-abe2-3a584b39f2c6",
   "metadata": {},
   "outputs": [
    {
     "name": "stdout",
     "output_type": "stream",
     "text": [
      "[[           nan            nan            nan            nan\n",
      "             nan]\n",
      " [           nan            nan            nan            nan\n",
      "   10839.6406992]\n",
      " [           nan            nan  28963.8203496  19901.7305244\n",
      "   10839.6406992]\n",
      " [           nan  38025.9101748  28963.8203496  19901.7305244\n",
      "   10839.6406992]\n",
      " [ 56898.         47835.9101748  38773.8203496  29711.7305244\n",
      "   20649.6406992]\n",
      " [ 66708.         57645.9101748  48583.8203496  39521.7305244\n",
      "   30459.6406992]\n",
      " [ 76518.         67455.9101748  58393.8203496  49331.7305244\n",
      "   40269.6406992]\n",
      " [ 96138.         87075.9101748  78013.8203496  68951.7305244\n",
      "   59889.6406992]\n",
      " [115758.        106695.9101748  97633.8203496  88571.7305244\n",
      "   79509.6406992]\n",
      " [135378.        126315.9101748 117253.8203496 108191.7305244\n",
      "   99129.6406992]]\n"
     ]
    }
   ],
   "source": [
    "print(ov_pressures)"
   ]
  },
  {
   "cell_type": "code",
   "execution_count": 28,
   "id": "2cb7a7eb-af5e-4a20-a437-591c8a114984",
   "metadata": {},
   "outputs": [
    {
     "name": "stdout",
     "output_type": "stream",
     "text": [
      "[[           nan            nan            nan            nan\n",
      "             nan]\n",
      " [           nan            nan            nan            nan\n",
      "   10839.6406992]\n",
      " [           nan            nan  28963.8203496  19901.7305244\n",
      "   10839.6406992]\n",
      " [           nan  38025.9101748  28963.8203496  19901.7305244\n",
      "   10839.6406992]\n",
      " [ 56898.         47835.9101748  38773.8203496  29711.7305244\n",
      "   20649.6406992]\n",
      " [ 66708.         57645.9101748  48583.8203496  39521.7305244\n",
      "   30459.6406992]\n",
      " [ 76518.         67455.9101748  58393.8203496  49331.7305244\n",
      "   40269.6406992]\n",
      " [ 96138.         87075.9101748  78013.8203496  68951.7305244\n",
      "   59889.6406992]\n",
      " [115758.        106695.9101748  97633.8203496  88571.7305244\n",
      "   79509.6406992]\n",
      " [135378.        126315.9101748 117253.8203496 108191.7305244\n",
      "   99129.6406992]]\n"
     ]
    }
   ],
   "source": [
    "print(ov_pressures)"
   ]
  },
  {
   "cell_type": "code",
   "execution_count": 158,
   "id": "f886cd6a-c9e2-4c6a-a7d2-0e5c7b9e5cfc",
   "metadata": {},
   "outputs": [],
   "source": [
    "effective_stress = ov_pressures - pw_pressures"
   ]
  },
  {
   "cell_type": "code",
   "execution_count": 159,
   "id": "8373a5b4-c11e-4adf-b51a-27cde621ee33",
   "metadata": {},
   "outputs": [
    {
     "data": {
      "image/png": "[encoded data removed]",
      "text/plain": [
       "<Figure size 1000x700 with 2 Axes>"
      ]
     },
     "metadata": {},
     "output_type": "display_data"
    }
   ],
   "source": [
    "plt.figure(figsize=(10, 7))\n",
    "\n",
    "# Heatmap of effective stress\n",
    "plt.imshow(effective_stress, cmap='viridis', interpolation='nearest', aspect='auto')\n",
    "plt.colorbar(label='Effective Stress (Pa)')\n",
    "\n",
    "plt.title('Final Effective Stress Distribution: Theta = 50, Ice Layer 4-7 ')\n",
    "plt.xlabel('Horizontal Position (m)')\n",
    "plt.ylabel('Depth (m)')\n",
    "# Assuming equally spaced horizontal positions and depth layers for labels\n",
    "plt.xticks(np.arange(effective_stress.shape[1]), labels=[f'{i-1}' for i in range(effective_stress.shape[1])])\n",
    "plt.yticks(np.arange(effective_stress.shape[0]), labels=[f'{i}' for i in range(effective_stress.shape[0])])\n",
    "\n",
    "#plt.gca().invert_yaxis()  # Invert y-axis to have the top of the soil column at the top of the plot\n",
    "plt.savefig('/Users/samanthahordyk/Desktop/init_effective_stress_distribution_fourtoseven50deg.png', dpi=300)\n",
    "plt.show()"
   ]
  },
  {
   "cell_type": "code",
   "execution_count": null,
   "id": "11284146-9764-4810-a485-9f1b23be329e",
   "metadata": {},
   "outputs": [],
   "source": []
  }
 ],
 "metadata": {
  "kernelspec": {
   "display_name": "Python 3 (ipykernel)",
   "language": "python",
   "name": "python3"
  },
  "language_info": {
   "codemirror_mode": {
    "name": "ipython",
    "version": 3
   },
   "file_extension": ".py",
   "mimetype": "text/x-python",
   "name": "python",
   "nbconvert_exporter": "python",
   "pygments_lexer": "ipython3",
   "version": "3.11.7"
  }
 },
 "nbformat": 4,
 "nbformat_minor": 5
}
